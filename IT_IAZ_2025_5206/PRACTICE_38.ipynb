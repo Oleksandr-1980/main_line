{
 "cells": [
  {
   "cell_type": "markdown",
   "id": "03a033a5",
   "metadata": {},
   "source": [
    "### **2.2. Створення та навчання нейромережі для регресії**  \n",
    "📌 **Приклад: прогнозування кількості атак за історичними даними.**  "
   ]
  },
  {
   "cell_type": "code",
   "execution_count": null,
   "id": "e1beb10d",
   "metadata": {},
   "outputs": [],
   "source": [
    "import numpy as np\n",
    "import tensorflow as tf\n",
    "from tensorflow.keras.models import Sequential\n",
    "from tensorflow.keras.layers import Dense\n",
    "from sklearn.model_selection import train_test_split\n",
    "from sklearn.preprocessing import StandardScaler\n",
    "from sklearn.metrics import mean_squared_error\n",
    "\n",
    "# Генеруємо штучний набір даних\n",
    "X = np.random.rand(500, 5)  # 5 ознак\n",
    "y = X @ np.array([3, 5, -2, 1, 4]) + np.random.randn(500) * 0.5  # Лінійна залежність + шум\n",
    "\n",
    "# Розділення вибірки\n",
    "X_train, X_test, y_train, y_test = train_test_split(X, y, test_size=0.2, random_state=42)\n",
    "\n",
    "# Масштабування\n",
    "scaler = StandardScaler()\n",
    "X_train = scaler.fit_transform(X_train)\n",
    "X_test = scaler.transform(X_test)\n",
    "\n",
    "# Побудова моделі\n",
    "model = Sequential([\n",
    "    Dense(64, activation='relu', input_shape=(5,)),\n",
    "    Dense(32, activation='relu'),\n",
    "    Dense(1)  # Вихідний шар без активації (лінійна регресія)\n",
    "])\n",
    "\n",
    "# Компільовуємо модель\n",
    "model.compile(optimizer='adam', loss='mse', metrics=['mae'])\n",
    "\n",
    "# Навчання моделі\n",
    "model.fit(X_train, y_train, epochs=50, batch_size=10, validation_data=(X_test, y_test))\n",
    "\n",
    "# Прогноз та оцінка моделі\n",
    "y_pred = model.predict(X_test)\n",
    "mse = mean_squared_error(y_test, y_pred)\n",
    "print(f\"Mean Squared Error: {mse:.2f}\")"
   ]
  },
  {
   "cell_type": "markdown",
   "id": "6c2f2cb2",
   "metadata": {},
   "source": [
    "### **3.2. Створення та навчання нейромережі для класифікації**  \n",
    "📌 **Приклад: класифікація типів атак (2 класи – артилерійська або ракетна).**  "
   ]
  },
  {
   "cell_type": "code",
   "execution_count": null,
   "id": "0641bade",
   "metadata": {},
   "outputs": [],
   "source": [
    "from sklearn.datasets import make_classification\n",
    "from sklearn.model_selection import train_test_split\n",
    "from sklearn.preprocessing import StandardScaler\n",
    "from tensorflow.keras.utils import to_categorical\n",
    "\n",
    "# Генеруємо штучний набір даних\n",
    "X, y = make_classification(n_samples=1000, n_features=10, n_classes=2, random_state=42)\n",
    "y = to_categorical(y)  # Перетворення міток у one-hot encoding\n",
    "\n",
    "# Розділення вибірки\n",
    "X_train, X_test, y_train, y_test = train_test_split(X, y, test_size=0.2, random_state=42)\n",
    "\n",
    "# Масштабування\n",
    "scaler = StandardScaler()\n",
    "X_train = scaler.fit_transform(X_train)\n",
    "X_test = scaler.transform(X_test)\n",
    "\n",
    "# Побудова моделі\n",
    "model = Sequential([\n",
    "    Dense(64, activation='relu', input_shape=(10,)),\n",
    "    Dense(32, activation='relu'),\n",
    "    Dense(2, activation='softmax')  # Вихідний шар для 2 класів (softmax)\n",
    "])\n",
    "\n",
    "# Компільовуємо модель\n",
    "model.compile(optimizer='adam', loss='categorical_crossentropy', metrics=['accuracy'])\n",
    "\n",
    "# Навчання моделі\n",
    "model.fit(X_train, y_train, epochs=50, batch_size=10, validation_data=(X_test, y_test))\n",
    "\n",
    "# Оцінка точності\n",
    "loss, accuracy = model.evaluate(X_test, y_test)\n",
    "print(f\"Точність моделі: {accuracy:.2f}\")"
   ]
  }
 ],
 "metadata": {
  "kernelspec": {
   "display_name": "Python 3",
   "language": "python",
   "name": "python3"
  },
  "language_info": {
   "codemirror_mode": {
    "name": "ipython",
    "version": 3
   },
   "file_extension": ".py",
   "mimetype": "text/x-python",
   "name": "python",
   "nbconvert_exporter": "python",
   "pygments_lexer": "ipython3",
   "version": "3.11.9"
  }
 },
 "nbformat": 4,
 "nbformat_minor": 5
}
