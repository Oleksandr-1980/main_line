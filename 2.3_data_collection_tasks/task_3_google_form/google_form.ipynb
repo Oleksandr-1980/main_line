{
 "cells": [
  {
   "cell_type": "code",
   "execution_count": 1,
   "metadata": {},
   "outputs": [
    {
     "ename": "SyntaxError",
     "evalue": "invalid syntax (2793453676.py, line 1)",
     "output_type": "error",
     "traceback": [
      "\u001b[1;36m  Cell \u001b[1;32mIn[1], line 1\u001b[1;36m\u001b[0m\n\u001b[1;33m    function createGoogleForm() {\u001b[0m\n\u001b[1;37m             ^\u001b[0m\n\u001b[1;31mSyntaxError\u001b[0m\u001b[1;31m:\u001b[0m invalid syntax\n"
     ]
    }
   ],
   "source": [
    "function createGoogleForm() {\n",
    "  // Назва форми\n",
    "  const formTitle = \"Форма для збору даних\";\n",
    "\n",
    "  // Створення нової форми\n",
    "  const form = FormApp.create(formTitle);\n",
    "\n",
    "  // Додавання текстового поля для введення імені\n",
    "  form.addTextItem()\n",
    "      .setTitle(\"Ім'я\")\n",
    "      .setRequired(true);\n",
    "\n",
    "  // Додавання поля для вибору дати\n",
    "  form.addDateItem()\n",
    "      .setTitle(\"Дата\")\n",
    "      .setRequired(true);\n",
    "\n",
    "  // Додавання поля для вибору відділу\n",
    "  form.addMultipleChoiceItem()\n",
    "      .setTitle(\"Відділ\")\n",
    "      .setChoiceValues([\n",
    "        \"Маркетинг\",\n",
    "        \"Продажі\",\n",
    "        \"Розробка\",\n",
    "        \"Інший\"\n",
    "      ])\n",
    "      .setRequired(true);\n",
    "\n",
    "  // Отримання посилання на форму\n",
    "  const formUrl = form.getPublishedUrl();\n",
    "  Logger.log(\"Форма створена: \" + formUrl);\n",
    "\n",
    "  // Вивід посилання на форму у консоль\n",
    "  console.log(\"Посилання на форму: \" + formUrl);\n",
    "}"
   ]
  }
 ],
 "metadata": {
  "kernelspec": {
   "display_name": "Python 3",
   "language": "python",
   "name": "python3"
  },
  "language_info": {
   "codemirror_mode": {
    "name": "ipython",
    "version": 3
   },
   "file_extension": ".py",
   "mimetype": "text/x-python",
   "name": "python",
   "nbconvert_exporter": "python",
   "pygments_lexer": "ipython3",
   "version": "3.11.9"
  }
 },
 "nbformat": 4,
 "nbformat_minor": 2
}
