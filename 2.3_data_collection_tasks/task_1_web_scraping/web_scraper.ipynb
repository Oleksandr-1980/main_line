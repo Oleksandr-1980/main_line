{
 "cells": [
  {
   "cell_type": "code",
   "execution_count": 2,
   "metadata": {},
   "outputs": [
    {
     "name": "stdout",
     "output_type": "stream",
     "text": [
      "Requirement already satisfied: requests in c:\\users\\admin\\appdata\\local\\programs\\python\\python311\\lib\\site-packages (2.32.3)Note: you may need to restart the kernel to use updated packages.\n",
      "\n",
      "Requirement already satisfied: beautifulsoup4 in c:\\users\\admin\\appdata\\local\\programs\\python\\python311\\lib\\site-packages (4.12.3)\n",
      "Requirement already satisfied: pandas in c:\\users\\admin\\appdata\\local\\programs\\python\\python311\\lib\\site-packages (2.2.3)\n",
      "Requirement already satisfied: charset-normalizer<4,>=2 in c:\\users\\admin\\appdata\\local\\programs\\python\\python311\\lib\\site-packages (from requests) (3.4.1)\n",
      "Requirement already satisfied: idna<4,>=2.5 in c:\\users\\admin\\appdata\\local\\programs\\python\\python311\\lib\\site-packages (from requests) (3.10)\n",
      "Requirement already satisfied: urllib3<3,>=1.21.1 in c:\\users\\admin\\appdata\\local\\programs\\python\\python311\\lib\\site-packages (from requests) (2.3.0)\n",
      "Requirement already satisfied: certifi>=2017.4.17 in c:\\users\\admin\\appdata\\local\\programs\\python\\python311\\lib\\site-packages (from requests) (2024.12.14)\n",
      "Requirement already satisfied: soupsieve>1.2 in c:\\users\\admin\\appdata\\local\\programs\\python\\python311\\lib\\site-packages (from beautifulsoup4) (2.6)\n",
      "Requirement already satisfied: numpy>=1.23.2 in c:\\users\\admin\\appdata\\local\\programs\\python\\python311\\lib\\site-packages (from pandas) (2.2.1)\n",
      "Requirement already satisfied: python-dateutil>=2.8.2 in c:\\users\\admin\\appdata\\roaming\\python\\python311\\site-packages (from pandas) (2.9.0.post0)\n",
      "Requirement already satisfied: pytz>=2020.1 in c:\\users\\admin\\appdata\\local\\programs\\python\\python311\\lib\\site-packages (from pandas) (2024.2)\n",
      "Requirement already satisfied: tzdata>=2022.7 in c:\\users\\admin\\appdata\\local\\programs\\python\\python311\\lib\\site-packages (from pandas) (2024.2)\n",
      "Requirement already satisfied: six>=1.5 in c:\\users\\admin\\appdata\\roaming\\python\\python311\\site-packages (from python-dateutil>=2.8.2->pandas) (1.17.0)\n"
     ]
    },
    {
     "name": "stderr",
     "output_type": "stream",
     "text": [
      "\n",
      "[notice] A new release of pip is available: 24.0 -> 24.3.1\n",
      "[notice] To update, run: python.exe -m pip install --upgrade pip\n"
     ]
    }
   ],
   "source": [
    "#%pip install requests beautifulsoup4 pandas\n"
   ]
  },
  {
   "cell_type": "code",
   "execution_count": 15,
   "metadata": {},
   "outputs": [
    {
     "name": "stdout",
     "output_type": "stream",
     "text": [
      "[{'Date': '31 Грудня, 2024 16:00', 'Title': 'Сил оборони України уразили ще одну нафтобазу російських окупантів'}, {'Date': '31 Грудня, 2024 8:12', 'Title': 'Оперативна інформація станом на 08.00 31.12.2024 щодо російського вторгнення'}, {'Date': '30 Грудня, 2024 16:00', 'Title': 'У застосунку Армія+ з’явився шостий навчальний курс на тему «Інформаційна стійкість: кібербезпека»'}, {'Date': '30 Грудня, 2024 15:00', 'Title': 'Безперервна боротьба: Захист і мужність наших воїнів на передньому краю'}, {'Date': '30 Грудня, 2024 10:10', 'Title': 'Операція ‘Рейнджерів’: звільнення полонених і полон 8 окупантів'}, {'Date': '30 Грудня, 2024 8:10', 'Title': 'Оперативна інформація станом на 08.00 30.12.2024 щодо російського вторгнення'}, {'Date': '29 Грудня, 2024 16:07', 'Title': 'Генеральний секретар НАТО Марк Рютте вдячний Литві за її підтримку України та плани на подальшу допомогу'}, {'Date': '29 Грудня, 2024 8:10', 'Title': 'Оперативна інформація станом на 08.00 29.12.2024 щодо російського вторгнення'}, {'Date': '28 Грудня, 2024 11:00', 'Title': 'Підсумки 2024 року для Збройних Сил України: виклики, досягнення та стратегії на майбутнє'}, {'Date': '28 Грудня, 2024 10:09', 'Title': 'Уражено склад зберігання дронів-камікадзе “Shahed” в Орловській області'}]\n"
     ]
    }
   ],
   "source": [
    "import requests\n",
    "from bs4 import BeautifulSoup\n",
    "import pandas as pd\n",
    "\n",
    "# URL сторінки\n",
    "url = \"https://www.zsu.gov.ua/category/news/page/2/\"\n",
    "\n",
    "# Заголовки для запиту\n",
    "headers = {\n",
    "    'User-Agent': 'Mozilla/5.0 (Windows NT 10.0; Win64; x64) AppleWebKit/537.36 (KHTML, like Gecko) Chrome/114.0.0.0 Safari/537.36'\n",
    "}\n",
    "\n",
    "# Запит до вебсайту\n",
    "response = requests.get(url, headers=headers)\n",
    "if response.status_code == 200:\n",
    "    # Створення об'єкта BeautifulSoup\n",
    "    soup = BeautifulSoup(response.content, 'html.parser')\n",
    "    \n",
    "    # Збираємо всі блоки з класом \"post__description\"\n",
    "    posts = soup.find_all('div', class_='post__description')\n",
    "\n",
    "    # Зберігаємо дані у список\n",
    "    data = []\n",
    "    for post in posts:\n",
    "        date = post.find('div', class_='post__date').text.strip()\n",
    "        title = post.find('div', class_='post__title').text.strip()\n",
    "        data.append({'Date': date, 'Title': title})\n",
    "    print(data)\n",
    "    # Зберігаємо заголовки у CSV-файл\n",
    "    df = pd.DataFrame(data)\n",
    "    df.to_csv('headlines.csv', index=False, encoding='utf-8')\n",
    "    #print(\"Дані успішно збережені в headlines.csv\")\n",
    "    \n",
    "else:\n",
    "    print(f\"Не вдалося отримати доступ до сторінки, код помилки: {response.status_code}\")\n"
   ]
  },
  {
   "cell_type": "code",
   "execution_count": 14,
   "metadata": {},
   "outputs": [
    {
     "data": {
      "text/html": [
       "<div>\n",
       "<style scoped>\n",
       "    .dataframe tbody tr th:only-of-type {\n",
       "        vertical-align: middle;\n",
       "    }\n",
       "\n",
       "    .dataframe tbody tr th {\n",
       "        vertical-align: top;\n",
       "    }\n",
       "\n",
       "    .dataframe thead th {\n",
       "        text-align: right;\n",
       "    }\n",
       "</style>\n",
       "<table border=\"1\" class=\"dataframe\">\n",
       "  <thead>\n",
       "    <tr style=\"text-align: right;\">\n",
       "      <th></th>\n",
       "      <th>Date</th>\n",
       "      <th>Title</th>\n",
       "    </tr>\n",
       "  </thead>\n",
       "  <tbody>\n",
       "    <tr>\n",
       "      <th>0</th>\n",
       "      <td>21 Грудня, 2024 8:10</td>\n",
       "      <td>Оперативна інформація станом на 08.00 21.12.20...</td>\n",
       "    </tr>\n",
       "    <tr>\n",
       "      <th>1</th>\n",
       "      <td>20 Грудня, 2024 19:30</td>\n",
       "      <td>Головнокомандувач Збройний Сил України спросту...</td>\n",
       "    </tr>\n",
       "    <tr>\n",
       "      <th>2</th>\n",
       "      <td>20 Грудня, 2024 18:30</td>\n",
       "      <td>Брифінг Командування Медичних сил ЗСУ: Актуаль...</td>\n",
       "    </tr>\n",
       "    <tr>\n",
       "      <th>3</th>\n",
       "      <td>20 Грудня, 2024 18:00</td>\n",
       "      <td>Інноваційні безпілотні системи та технології д...</td>\n",
       "    </tr>\n",
       "    <tr>\n",
       "      <th>4</th>\n",
       "      <td>20 Грудня, 2024 8:30</td>\n",
       "      <td>Black Widow Web 10: успіх українських інноваці...</td>\n",
       "    </tr>\n",
       "    <tr>\n",
       "      <th>5</th>\n",
       "      <td>20 Грудня, 2024 8:10</td>\n",
       "      <td>Оперативна інформація станом на 08.00 20.12.20...</td>\n",
       "    </tr>\n",
       "    <tr>\n",
       "      <th>6</th>\n",
       "      <td>19 Грудня, 2024 19:00</td>\n",
       "      <td>Головнокомандувач ЗС України: Технології зміню...</td>\n",
       "    </tr>\n",
       "    <tr>\n",
       "      <th>7</th>\n",
       "      <td>19 Грудня, 2024 16:25</td>\n",
       "      <td>Новий Сервіс Армії+: швидке повернення на служ...</td>\n",
       "    </tr>\n",
       "    <tr>\n",
       "      <th>8</th>\n",
       "      <td>19 Грудня, 2024 12:15</td>\n",
       "      <td>Українська писанка та кобзарсько-лірницькі тра...</td>\n",
       "    </tr>\n",
       "    <tr>\n",
       "      <th>9</th>\n",
       "      <td>19 Грудня, 2024 10:00</td>\n",
       "      <td>Уражено стратегічний об’єкт російських окупант...</td>\n",
       "    </tr>\n",
       "  </tbody>\n",
       "</table>\n",
       "</div>"
      ],
      "text/plain": [
       "                    Date                                              Title\n",
       "0   21 Грудня, 2024 8:10  Оперативна інформація станом на 08.00 21.12.20...\n",
       "1  20 Грудня, 2024 19:30  Головнокомандувач Збройний Сил України спросту...\n",
       "2  20 Грудня, 2024 18:30  Брифінг Командування Медичних сил ЗСУ: Актуаль...\n",
       "3  20 Грудня, 2024 18:00  Інноваційні безпілотні системи та технології д...\n",
       "4   20 Грудня, 2024 8:30  Black Widow Web 10: успіх українських інноваці...\n",
       "5   20 Грудня, 2024 8:10  Оперативна інформація станом на 08.00 20.12.20...\n",
       "6  19 Грудня, 2024 19:00  Головнокомандувач ЗС України: Технології зміню...\n",
       "7  19 Грудня, 2024 16:25  Новий Сервіс Армії+: швидке повернення на служ...\n",
       "8  19 Грудня, 2024 12:15  Українська писанка та кобзарсько-лірницькі тра...\n",
       "9  19 Грудня, 2024 10:00  Уражено стратегічний об’єкт російських окупант..."
      ]
     },
     "execution_count": 14,
     "metadata": {},
     "output_type": "execute_result"
    }
   ],
   "source": [
    "df.head(20)"
   ]
  }
 ],
 "metadata": {
  "kernelspec": {
   "display_name": "Python 3",
   "language": "python",
   "name": "python3"
  },
  "language_info": {
   "codemirror_mode": {
    "name": "ipython",
    "version": 3
   },
   "file_extension": ".py",
   "mimetype": "text/x-python",
   "name": "python",
   "nbconvert_exporter": "python",
   "pygments_lexer": "ipython3",
   "version": "3.11.9"
  }
 },
 "nbformat": 4,
 "nbformat_minor": 2
}
