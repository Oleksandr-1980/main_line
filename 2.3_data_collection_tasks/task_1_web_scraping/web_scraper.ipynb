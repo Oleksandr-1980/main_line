{
 "cells": [
  {
   "cell_type": "code",
   "execution_count": 4,
   "metadata": {},
   "outputs": [
    {
     "name": "stdout",
     "output_type": "stream",
     "text": [
      "Requirement already satisfied: requests in c:\\users\\admin\\appdata\\local\\programs\\python\\python311\\lib\\site-packages (2.32.3)Note: you may need to restart the kernel to use updated packages.\n",
      "\n",
      "Requirement already satisfied: beautifulsoup4 in c:\\users\\admin\\appdata\\local\\programs\\python\\python311\\lib\\site-packages (4.12.3)\n",
      "Requirement already satisfied: pandas in c:\\users\\admin\\appdata\\local\\programs\\python\\python311\\lib\\site-packages (2.2.3)\n",
      "Requirement already satisfied: charset-normalizer<4,>=2 in c:\\users\\admin\\appdata\\local\\programs\\python\\python311\\lib\\site-packages (from requests) (3.4.1)\n",
      "Requirement already satisfied: idna<4,>=2.5 in c:\\users\\admin\\appdata\\local\\programs\\python\\python311\\lib\\site-packages (from requests) (3.10)\n",
      "Requirement already satisfied: urllib3<3,>=1.21.1 in c:\\users\\admin\\appdata\\local\\programs\\python\\python311\\lib\\site-packages (from requests) (2.3.0)\n",
      "Requirement already satisfied: certifi>=2017.4.17 in c:\\users\\admin\\appdata\\local\\programs\\python\\python311\\lib\\site-packages (from requests) (2024.12.14)\n",
      "Requirement already satisfied: soupsieve>1.2 in c:\\users\\admin\\appdata\\local\\programs\\python\\python311\\lib\\site-packages (from beautifulsoup4) (2.6)\n",
      "Requirement already satisfied: numpy>=1.23.2 in c:\\users\\admin\\appdata\\local\\programs\\python\\python311\\lib\\site-packages (from pandas) (2.2.1)\n",
      "Requirement already satisfied: python-dateutil>=2.8.2 in c:\\users\\admin\\appdata\\roaming\\python\\python311\\site-packages (from pandas) (2.9.0.post0)\n",
      "Requirement already satisfied: pytz>=2020.1 in c:\\users\\admin\\appdata\\local\\programs\\python\\python311\\lib\\site-packages (from pandas) (2024.2)\n",
      "Requirement already satisfied: tzdata>=2022.7 in c:\\users\\admin\\appdata\\local\\programs\\python\\python311\\lib\\site-packages (from pandas) (2024.2)\n",
      "Requirement already satisfied: six>=1.5 in c:\\users\\admin\\appdata\\roaming\\python\\python311\\site-packages (from python-dateutil>=2.8.2->pandas) (1.17.0)\n"
     ]
    },
    {
     "name": "stderr",
     "output_type": "stream",
     "text": [
      "\n",
      "[notice] A new release of pip is available: 24.0 -> 24.3.1\n",
      "[notice] To update, run: python.exe -m pip install --upgrade pip\n"
     ]
    }
   ],
   "source": [
    "#%pip install requests beautifulsoup4 pandas\n"
   ]
  },
  {
   "cell_type": "code",
   "execution_count": 1,
   "metadata": {},
   "outputs": [
    {
     "name": "stdout",
     "output_type": "stream",
     "text": [
      "[{'Date': '5 Січня, 2025 8:00', 'Title': 'Оперативна інформація станом на 08.00 05.01.2025 щодо російського вторгнення'}, {'Date': '4 Січня, 2025 8:10', 'Title': 'Оперативна інформація станом на 08.00 04.01.2025 щодо російського вторгнення'}, {'Date': '3 Січня, 2025 8:10', 'Title': 'Оперативна інформація станом на 08.00 03.01.2025 щодо російського вторгнення'}, {'Date': '2 Січня, 2025 16:00', 'Title': 'Збройні Сили України здійснили високоточний удар по командному пункту окупаційної армії рф'}, {'Date': '2 Січня, 2025 8:10', 'Title': 'Оперативна інформація станом на 08.00 02.01.2025 щодо російського вторгнення'}, {'Date': '1 Січня, 2025 16:10', 'Title': 'Головнокомандувач Збройних Сил України генерал Олександр Сирський нагородив українських воїнів на Курщині'}, {'Date': '1 Січня, 2025 8:10', 'Title': 'Оперативна інформація станом на 08.00 01.01.2025 щодо російського вторгнення'}, {'Date': '31 Грудня, 2024 20:10', 'Title': 'Привітання Головнокомандувача Збройних Сил України з Новим 2025 роком'}, {'Date': '31 Грудня, 2024 16:00', 'Title': 'Сил оборони України уразили ще одну нафтобазу російських окупантів'}, {'Date': '31 Грудня, 2024 8:12', 'Title': 'Оперативна інформація станом на 08.00 31.12.2024 щодо російського вторгнення'}]\n"
     ]
    }
   ],
   "source": [
    "import requests\n",
    "from bs4 import BeautifulSoup\n",
    "import pandas as pd\n",
    "\n",
    "# URL сторінки\n",
    "url = \"https://www.zsu.gov.ua/category/news/page/2/\"\n",
    "\n",
    "# Заголовки для запиту\n",
    "headers = {\n",
    "    'User-Agent': 'Mozilla/5.0 (Windows NT 10.0; Win64; x64) AppleWebKit/537.36 (KHTML, like Gecko) Chrome/114.0.0.0 Safari/537.36'\n",
    "}\n",
    "\n",
    "# Запит до вебсайту\n",
    "response = requests.get(url, headers=headers)\n",
    "if response.status_code == 200:\n",
    "    # Створення об'єкта BeautifulSoup\n",
    "    soup = BeautifulSoup(response.content, 'html.parser')\n",
    "    \n",
    "    # Збираємо всі блоки з класом \"post__description\"\n",
    "    posts = soup.find_all('div', class_='post__description')\n",
    "\n",
    "    # Зберігаємо дані у список\n",
    "    data = []\n",
    "    for post in posts:\n",
    "        date = post.find('div', class_='post__date').text.strip()\n",
    "        title = post.find('div', class_='post__title').text.strip()\n",
    "        data.append({'Date': date, 'Title': title})\n",
    "    print(data)\n",
    "    # Зберігаємо заголовки у CSV-файл\n",
    "    df = pd.DataFrame(data)\n",
    "    df.to_csv('headlines.csv', index=False, encoding='utf-8')\n",
    "    #print(\"Дані успішно збережені в headlines.csv\")\n",
    "    \n",
    "else:\n",
    "    print(f\"Не вдалося отримати доступ до сторінки, код помилки: {response.status_code}\")\n"
   ]
  },
  {
   "cell_type": "code",
   "execution_count": 2,
   "metadata": {},
   "outputs": [
    {
     "data": {
      "text/html": [
       "<div>\n",
       "<style scoped>\n",
       "    .dataframe tbody tr th:only-of-type {\n",
       "        vertical-align: middle;\n",
       "    }\n",
       "\n",
       "    .dataframe tbody tr th {\n",
       "        vertical-align: top;\n",
       "    }\n",
       "\n",
       "    .dataframe thead th {\n",
       "        text-align: right;\n",
       "    }\n",
       "</style>\n",
       "<table border=\"1\" class=\"dataframe\">\n",
       "  <thead>\n",
       "    <tr style=\"text-align: right;\">\n",
       "      <th></th>\n",
       "      <th>Date</th>\n",
       "      <th>Title</th>\n",
       "    </tr>\n",
       "  </thead>\n",
       "  <tbody>\n",
       "    <tr>\n",
       "      <th>0</th>\n",
       "      <td>5 Січня, 2025 8:00</td>\n",
       "      <td>Оперативна інформація станом на 08.00 05.01.20...</td>\n",
       "    </tr>\n",
       "    <tr>\n",
       "      <th>1</th>\n",
       "      <td>4 Січня, 2025 8:10</td>\n",
       "      <td>Оперативна інформація станом на 08.00 04.01.20...</td>\n",
       "    </tr>\n",
       "    <tr>\n",
       "      <th>2</th>\n",
       "      <td>3 Січня, 2025 8:10</td>\n",
       "      <td>Оперативна інформація станом на 08.00 03.01.20...</td>\n",
       "    </tr>\n",
       "    <tr>\n",
       "      <th>3</th>\n",
       "      <td>2 Січня, 2025 16:00</td>\n",
       "      <td>Збройні Сили України здійснили високоточний уд...</td>\n",
       "    </tr>\n",
       "    <tr>\n",
       "      <th>4</th>\n",
       "      <td>2 Січня, 2025 8:10</td>\n",
       "      <td>Оперативна інформація станом на 08.00 02.01.20...</td>\n",
       "    </tr>\n",
       "    <tr>\n",
       "      <th>5</th>\n",
       "      <td>1 Січня, 2025 16:10</td>\n",
       "      <td>Головнокомандувач Збройних Сил України генерал...</td>\n",
       "    </tr>\n",
       "    <tr>\n",
       "      <th>6</th>\n",
       "      <td>1 Січня, 2025 8:10</td>\n",
       "      <td>Оперативна інформація станом на 08.00 01.01.20...</td>\n",
       "    </tr>\n",
       "    <tr>\n",
       "      <th>7</th>\n",
       "      <td>31 Грудня, 2024 20:10</td>\n",
       "      <td>Привітання Головнокомандувача Збройних Сил Укр...</td>\n",
       "    </tr>\n",
       "    <tr>\n",
       "      <th>8</th>\n",
       "      <td>31 Грудня, 2024 16:00</td>\n",
       "      <td>Сил оборони України уразили ще одну нафтобазу ...</td>\n",
       "    </tr>\n",
       "    <tr>\n",
       "      <th>9</th>\n",
       "      <td>31 Грудня, 2024 8:12</td>\n",
       "      <td>Оперативна інформація станом на 08.00 31.12.20...</td>\n",
       "    </tr>\n",
       "  </tbody>\n",
       "</table>\n",
       "</div>"
      ],
      "text/plain": [
       "                    Date                                              Title\n",
       "0     5 Січня, 2025 8:00  Оперативна інформація станом на 08.00 05.01.20...\n",
       "1     4 Січня, 2025 8:10  Оперативна інформація станом на 08.00 04.01.20...\n",
       "2     3 Січня, 2025 8:10  Оперативна інформація станом на 08.00 03.01.20...\n",
       "3    2 Січня, 2025 16:00  Збройні Сили України здійснили високоточний уд...\n",
       "4     2 Січня, 2025 8:10  Оперативна інформація станом на 08.00 02.01.20...\n",
       "5    1 Січня, 2025 16:10  Головнокомандувач Збройних Сил України генерал...\n",
       "6     1 Січня, 2025 8:10  Оперативна інформація станом на 08.00 01.01.20...\n",
       "7  31 Грудня, 2024 20:10  Привітання Головнокомандувача Збройних Сил Укр...\n",
       "8  31 Грудня, 2024 16:00  Сил оборони України уразили ще одну нафтобазу ...\n",
       "9   31 Грудня, 2024 8:12  Оперативна інформація станом на 08.00 31.12.20..."
      ]
     },
     "execution_count": 2,
     "metadata": {},
     "output_type": "execute_result"
    }
   ],
   "source": [
    "df.head(20)"
   ]
  }
 ],
 "metadata": {
  "kernelspec": {
   "display_name": "Python 3",
   "language": "python",
   "name": "python3"
  },
  "language_info": {
   "codemirror_mode": {
    "name": "ipython",
    "version": 3
   },
   "file_extension": ".py",
   "mimetype": "text/x-python",
   "name": "python",
   "nbconvert_exporter": "python",
   "pygments_lexer": "ipython3",
   "version": "3.11.9"
  }
 },
 "nbformat": 4,
 "nbformat_minor": 2
}
