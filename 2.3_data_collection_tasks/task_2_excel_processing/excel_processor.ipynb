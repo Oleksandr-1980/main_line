{
 "cells": [
  {
   "cell_type": "code",
   "execution_count": 2,
   "metadata": {},
   "outputs": [
    {
     "name": "stdout",
     "output_type": "stream",
     "text": [
      "Collecting openpyxlNote: you may need to restart the kernel to use updated packages.\n"
     ]
    },
    {
     "name": "stderr",
     "output_type": "stream",
     "text": [
      "\n",
      "[notice] A new release of pip is available: 24.0 -> 24.3.1\n",
      "[notice] To update, run: python.exe -m pip install --upgrade pip\n"
     ]
    },
    {
     "name": "stdout",
     "output_type": "stream",
     "text": [
      "\n",
      "  Downloading openpyxl-3.1.5-py2.py3-none-any.whl.metadata (2.5 kB)\n",
      "Collecting et-xmlfile (from openpyxl)\n",
      "  Downloading et_xmlfile-2.0.0-py3-none-any.whl.metadata (2.7 kB)\n",
      "Downloading openpyxl-3.1.5-py2.py3-none-any.whl (250 kB)\n",
      "   ---------------------------------------- 0.0/250.9 kB ? eta -:--:--\n",
      "   - -------------------------------------- 10.2/250.9 kB ? eta -:--:--\n",
      "   ---- ---------------------------------- 30.7/250.9 kB 262.6 kB/s eta 0:00:01\n",
      "   ---- ---------------------------------- 30.7/250.9 kB 262.6 kB/s eta 0:00:01\n",
      "   ------ -------------------------------- 41.0/250.9 kB 217.9 kB/s eta 0:00:01\n",
      "   ----------- --------------------------- 71.7/250.9 kB 262.6 kB/s eta 0:00:01\n",
      "   ----------- --------------------------- 71.7/250.9 kB 262.6 kB/s eta 0:00:01\n",
      "   ------------------ ------------------- 122.9/250.9 kB 343.4 kB/s eta 0:00:01\n",
      "   ------------------ ------------------- 122.9/250.9 kB 343.4 kB/s eta 0:00:01\n",
      "   ----------------------- -------------- 153.6/250.9 kB 353.1 kB/s eta 0:00:01\n",
      "   ----------------------------------- -- 235.5/250.9 kB 480.3 kB/s eta 0:00:01\n",
      "   -------------------------------------  245.8/250.9 kB 456.4 kB/s eta 0:00:01\n",
      "   -------------------------------------- 250.9/250.9 kB 440.0 kB/s eta 0:00:00\n",
      "Downloading et_xmlfile-2.0.0-py3-none-any.whl (18 kB)\n",
      "Installing collected packages: et-xmlfile, openpyxl\n",
      "Successfully installed et-xmlfile-2.0.0 openpyxl-3.1.5\n"
     ]
    }
   ],
   "source": [
    "#%pip install openpyxl\n"
   ]
  },
  {
   "cell_type": "code",
   "execution_count": 4,
   "metadata": {},
   "outputs": [
    {
     "name": "stdout",
     "output_type": "stream",
     "text": [
      "Читаємо файл: data.xlsx\n",
      "Фільтруємо дані за значенням 'Finance' у колонці 'Category'\n",
      "Зберігаємо відфільтровані дані у файл: filtered_data.xlsx\n",
      "Фільтрацію завершено успішно!\n"
     ]
    }
   ],
   "source": [
    "import pandas as pd\n",
    "\n",
    "def process_excel(input_file, output_file, column_name, filter_value):\n",
    "    \"\"\"\n",
    "    Читає Excel-файл, фільтрує дані за значенням у зазначеній колонці\n",
    "    та зберігає відфільтровані дані в новий Excel-файл.\n",
    "\n",
    "    :param input_file: Шлях до вхідного Excel-файлу.\n",
    "    :param output_file: Шлях до вихідного Excel-файлу.\n",
    "    :param column_name: Назва колонки для фільтрації.\n",
    "    :param filter_value: Значення для фільтрації.\n",
    "    \"\"\"\n",
    "    try:\n",
    "        # Читання Excel-файлу\n",
    "        print(f\"Читаємо файл: {input_file}\")\n",
    "        df = pd.read_excel(input_file)\n",
    "\n",
    "        # Перевірка, чи існує колонка\n",
    "        if column_name not in df.columns:\n",
    "            raise ValueError(f\"Колонка '{column_name}' не знайдена у файлі.\")\n",
    "\n",
    "        # Фільтрація даних\n",
    "        print(f\"Фільтруємо дані за значенням '{filter_value}' у колонці '{column_name}'\")\n",
    "        filtered_df = df[df[column_name] == filter_value]\n",
    "\n",
    "        # Збереження результату\n",
    "        print(f\"Зберігаємо відфільтровані дані у файл: {output_file}\")\n",
    "        filtered_df.to_excel(output_file, index=False)\n",
    "\n",
    "        print(\"Фільтрацію завершено успішно!\")\n",
    "    except Exception as e:\n",
    "        print(f\"Сталася помилка: {e}\")\n",
    "\n",
    "if __name__ == \"__main__\":\n",
    "    # Приклад використання\n",
    "    input_file = \"data.xlsx\"  # Шлях до вхідного файлу\n",
    "    output_file = \"filtered_data.xlsx\"  # Шлях до вихідного файлу\n",
    "    column_name = \"Category\"  # Колонка для фільтрації\n",
    "    filter_value = \"Finance\"  # Значення для фільтрації\n",
    "\n",
    "    process_excel(input_file, output_file, column_name, filter_value)\n"
   ]
  }
 ],
 "metadata": {
  "kernelspec": {
   "display_name": "Python 3",
   "language": "python",
   "name": "python3"
  },
  "language_info": {
   "codemirror_mode": {
    "name": "ipython",
    "version": 3
   },
   "file_extension": ".py",
   "mimetype": "text/x-python",
   "name": "python",
   "nbconvert_exporter": "python",
   "pygments_lexer": "ipython3",
   "version": "3.11.9"
  }
 },
 "nbformat": 4,
 "nbformat_minor": 2
}
