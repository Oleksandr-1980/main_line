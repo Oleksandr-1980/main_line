{
 "cells": [
  {
   "cell_type": "code",
   "execution_count": 1,
   "metadata": {},
   "outputs": [
    {
     "name": "stdout",
     "output_type": "stream",
     "text": [
      "XML-файл 'unit_data.xml' створено успішно.\n"
     ]
    }
   ],
   "source": [
    "import xml.etree.ElementTree as ET\n",
    "\n",
    "def create_xml_file(filename=\"unit_data.xml\"):\n",
    "    # Дані про підрозділ\n",
    "    unit_data = {\n",
    "        \"name\": \"Підрозділ А\",\n",
    "        \"count\": 150,\n",
    "        \"status\": \"Активний\"\n",
    "    }\n",
    "\n",
    "    # Створення кореневого елемента\n",
    "    root = ET.Element(\"Unit\")\n",
    "\n",
    "    # Додавання елементів\n",
    "    name = ET.SubElement(root, \"Name\")\n",
    "    name.text = unit_data[\"name\"]\n",
    "\n",
    "    count = ET.SubElement(root, \"Count\")\n",
    "    count.text = str(unit_data[\"count\"])\n",
    "\n",
    "    status = ET.SubElement(root, \"Status\")\n",
    "    status.text = unit_data[\"status\"]\n",
    "\n",
    "    # Створення дерева та збереження у файл\n",
    "    tree = ET.ElementTree(root)\n",
    "    with open(filename, \"wb\") as file:\n",
    "        tree.write(file, encoding=\"utf-8\", xml_declaration=True)\n",
    "\n",
    "    print(f\"XML-файл '{filename}' створено успішно.\")\n",
    "\n",
    "if __name__ == \"__main__\":\n",
    "    create_xml_file()\n"
   ]
  }
 ],
 "metadata": {
  "kernelspec": {
   "display_name": "Python 3",
   "language": "python",
   "name": "python3"
  },
  "language_info": {
   "codemirror_mode": {
    "name": "ipython",
    "version": 3
   },
   "file_extension": ".py",
   "mimetype": "text/x-python",
   "name": "python",
   "nbconvert_exporter": "python",
   "pygments_lexer": "ipython3",
   "version": "3.11.9"
  }
 },
 "nbformat": 4,
 "nbformat_minor": 2
}
